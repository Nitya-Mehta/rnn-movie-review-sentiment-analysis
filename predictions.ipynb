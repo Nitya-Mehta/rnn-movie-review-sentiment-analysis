{
 "cells": [
  {
   "cell_type": "code",
   "execution_count": 1,
   "id": "975eaa30",
   "metadata": {},
   "outputs": [],
   "source": [
    "import numpy as np\n",
    "import tensorflow as tf\n",
    "from tensorflow.keras.datasets import imdb\n",
    "from tensorflow.keras.preprocessing import sequence\n",
    "from tensorflow.keras.models import load_model"
   ]
  },
  {
   "cell_type": "code",
   "execution_count": 2,
   "id": "6e09e26a",
   "metadata": {},
   "outputs": [],
   "source": [
    "# Load the IMDB dataset word index\n",
    "word_index = imdb.get_word_index()\n",
    "reverse_word_index = {value: key for key, value in word_index.items()}"
   ]
  },
  {
   "cell_type": "code",
   "execution_count": 4,
   "id": "58d8b54a",
   "metadata": {},
   "outputs": [
    {
     "name": "stderr",
     "output_type": "stream",
     "text": [
      "WARNING:absl:Compiled the loaded model, but the compiled metrics have yet to be built. `model.compile_metrics` will be empty until you train or evaluate the model.\n"
     ]
    },
    {
     "data": {
      "text/html": [
       "<pre style=\"white-space:pre;overflow-x:auto;line-height:normal;font-family:Menlo,'DejaVu Sans Mono',consolas,'Courier New',monospace\"><span style=\"font-weight: bold\">Model: \"sequential\"</span>\n",
       "</pre>\n"
      ],
      "text/plain": [
       "\u001b[1mModel: \"sequential\"\u001b[0m\n"
      ]
     },
     "metadata": {},
     "output_type": "display_data"
    },
    {
     "data": {
      "text/html": [
       "<pre style=\"white-space:pre;overflow-x:auto;line-height:normal;font-family:Menlo,'DejaVu Sans Mono',consolas,'Courier New',monospace\">┏━━━━━━━━━━━━━━━━━━━━━━━━━━━━━━━━━┳━━━━━━━━━━━━━━━━━━━━━━━━┳━━━━━━━━━━━━━━━┓\n",
       "┃<span style=\"font-weight: bold\"> Layer (type)                    </span>┃<span style=\"font-weight: bold\"> Output Shape           </span>┃<span style=\"font-weight: bold\">       Param # </span>┃\n",
       "┡━━━━━━━━━━━━━━━━━━━━━━━━━━━━━━━━━╇━━━━━━━━━━━━━━━━━━━━━━━━╇━━━━━━━━━━━━━━━┩\n",
       "│ embedding (<span style=\"color: #0087ff; text-decoration-color: #0087ff\">Embedding</span>)           │ (<span style=\"color: #00af00; text-decoration-color: #00af00\">32</span>, <span style=\"color: #00af00; text-decoration-color: #00af00\">500</span>, <span style=\"color: #00af00; text-decoration-color: #00af00\">128</span>)         │     <span style=\"color: #00af00; text-decoration-color: #00af00\">1,280,000</span> │\n",
       "├─────────────────────────────────┼────────────────────────┼───────────────┤\n",
       "│ simple_rnn (<span style=\"color: #0087ff; text-decoration-color: #0087ff\">SimpleRNN</span>)          │ (<span style=\"color: #00af00; text-decoration-color: #00af00\">32</span>, <span style=\"color: #00af00; text-decoration-color: #00af00\">128</span>)              │        <span style=\"color: #00af00; text-decoration-color: #00af00\">32,896</span> │\n",
       "├─────────────────────────────────┼────────────────────────┼───────────────┤\n",
       "│ dense (<span style=\"color: #0087ff; text-decoration-color: #0087ff\">Dense</span>)                   │ (<span style=\"color: #00af00; text-decoration-color: #00af00\">32</span>, <span style=\"color: #00af00; text-decoration-color: #00af00\">1</span>)                │           <span style=\"color: #00af00; text-decoration-color: #00af00\">129</span> │\n",
       "└─────────────────────────────────┴────────────────────────┴───────────────┘\n",
       "</pre>\n"
      ],
      "text/plain": [
       "┏━━━━━━━━━━━━━━━━━━━━━━━━━━━━━━━━━┳━━━━━━━━━━━━━━━━━━━━━━━━┳━━━━━━━━━━━━━━━┓\n",
       "┃\u001b[1m \u001b[0m\u001b[1mLayer (type)                   \u001b[0m\u001b[1m \u001b[0m┃\u001b[1m \u001b[0m\u001b[1mOutput Shape          \u001b[0m\u001b[1m \u001b[0m┃\u001b[1m \u001b[0m\u001b[1m      Param #\u001b[0m\u001b[1m \u001b[0m┃\n",
       "┡━━━━━━━━━━━━━━━━━━━━━━━━━━━━━━━━━╇━━━━━━━━━━━━━━━━━━━━━━━━╇━━━━━━━━━━━━━━━┩\n",
       "│ embedding (\u001b[38;5;33mEmbedding\u001b[0m)           │ (\u001b[38;5;34m32\u001b[0m, \u001b[38;5;34m500\u001b[0m, \u001b[38;5;34m128\u001b[0m)         │     \u001b[38;5;34m1,280,000\u001b[0m │\n",
       "├─────────────────────────────────┼────────────────────────┼───────────────┤\n",
       "│ simple_rnn (\u001b[38;5;33mSimpleRNN\u001b[0m)          │ (\u001b[38;5;34m32\u001b[0m, \u001b[38;5;34m128\u001b[0m)              │        \u001b[38;5;34m32,896\u001b[0m │\n",
       "├─────────────────────────────────┼────────────────────────┼───────────────┤\n",
       "│ dense (\u001b[38;5;33mDense\u001b[0m)                   │ (\u001b[38;5;34m32\u001b[0m, \u001b[38;5;34m1\u001b[0m)                │           \u001b[38;5;34m129\u001b[0m │\n",
       "└─────────────────────────────────┴────────────────────────┴───────────────┘\n"
      ]
     },
     "metadata": {},
     "output_type": "display_data"
    },
    {
     "data": {
      "text/html": [
       "<pre style=\"white-space:pre;overflow-x:auto;line-height:normal;font-family:Menlo,'DejaVu Sans Mono',consolas,'Courier New',monospace\"><span style=\"font-weight: bold\"> Total params: </span><span style=\"color: #00af00; text-decoration-color: #00af00\">1,313,027</span> (5.01 MB)\n",
       "</pre>\n"
      ],
      "text/plain": [
       "\u001b[1m Total params: \u001b[0m\u001b[38;5;34m1,313,027\u001b[0m (5.01 MB)\n"
      ]
     },
     "metadata": {},
     "output_type": "display_data"
    },
    {
     "data": {
      "text/html": [
       "<pre style=\"white-space:pre;overflow-x:auto;line-height:normal;font-family:Menlo,'DejaVu Sans Mono',consolas,'Courier New',monospace\"><span style=\"font-weight: bold\"> Trainable params: </span><span style=\"color: #00af00; text-decoration-color: #00af00\">1,313,025</span> (5.01 MB)\n",
       "</pre>\n"
      ],
      "text/plain": [
       "\u001b[1m Trainable params: \u001b[0m\u001b[38;5;34m1,313,025\u001b[0m (5.01 MB)\n"
      ]
     },
     "metadata": {},
     "output_type": "display_data"
    },
    {
     "data": {
      "text/html": [
       "<pre style=\"white-space:pre;overflow-x:auto;line-height:normal;font-family:Menlo,'DejaVu Sans Mono',consolas,'Courier New',monospace\"><span style=\"font-weight: bold\"> Non-trainable params: </span><span style=\"color: #00af00; text-decoration-color: #00af00\">0</span> (0.00 B)\n",
       "</pre>\n"
      ],
      "text/plain": [
       "\u001b[1m Non-trainable params: \u001b[0m\u001b[38;5;34m0\u001b[0m (0.00 B)\n"
      ]
     },
     "metadata": {},
     "output_type": "display_data"
    },
    {
     "data": {
      "text/html": [
       "<pre style=\"white-space:pre;overflow-x:auto;line-height:normal;font-family:Menlo,'DejaVu Sans Mono',consolas,'Courier New',monospace\"><span style=\"font-weight: bold\"> Optimizer params: </span><span style=\"color: #00af00; text-decoration-color: #00af00\">2</span> (12.00 B)\n",
       "</pre>\n"
      ],
      "text/plain": [
       "\u001b[1m Optimizer params: \u001b[0m\u001b[38;5;34m2\u001b[0m (12.00 B)\n"
      ]
     },
     "metadata": {},
     "output_type": "display_data"
    }
   ],
   "source": [
    "# Load the pre-trained model with ReLU activation\n",
    "model = load_model('simple_rnn_imdb.h5')\n",
    "model.summary()"
   ]
  },
  {
   "cell_type": "code",
   "execution_count": 5,
   "id": "688f2573",
   "metadata": {},
   "outputs": [
    {
     "data": {
      "text/plain": [
       "[array([[ 0.2592895 ,  0.04631975,  0.06389286, ...,  0.01925481,\n",
       "          0.03482631, -0.00791891],\n",
       "        [-0.05899195, -0.05585856,  0.00487271, ...,  0.03566368,\n",
       "          0.00865131, -0.04039967],\n",
       "        [ 0.02504899, -0.08261476, -0.0449617 , ..., -0.01625037,\n",
       "         -0.04182955, -0.0567493 ],\n",
       "        ...,\n",
       "        [-0.02113188, -0.06858112, -0.04875588, ...,  0.02731662,\n",
       "         -0.10852015,  0.01635845],\n",
       "        [-0.0369271 , -0.04928542, -0.08555482, ...,  0.02176167,\n",
       "         -0.0210866 , -0.02991059],\n",
       "        [-0.04049405, -0.07560397, -0.01249647, ...,  0.03026013,\n",
       "         -0.02764034, -0.03394461]], dtype=float32),\n",
       " array([[-0.16562071,  0.0529135 ,  0.14134082, ...,  0.04809014,\n",
       "         -0.04417976,  0.03441492],\n",
       "        [-0.12544651,  0.06541402,  0.05847425, ...,  0.05103411,\n",
       "          0.09729925, -0.10832729],\n",
       "        [-0.0014755 , -0.03109846, -0.02262435, ...,  0.16600533,\n",
       "          0.06730108, -0.02942571],\n",
       "        ...,\n",
       "        [ 0.1048517 ,  0.01150366, -0.11649711, ...,  0.0546509 ,\n",
       "         -0.00215662, -0.03996126],\n",
       "        [ 0.09613531,  0.08615325,  0.00369837, ..., -0.12047211,\n",
       "         -0.0571014 ,  0.13383879],\n",
       "        [-0.17469196,  0.00037176,  0.077215  , ..., -0.07770223,\n",
       "         -0.1219748 ,  0.0819026 ]], dtype=float32),\n",
       " array([[ 0.04708556, -0.0784065 ,  0.03391527, ..., -0.06688723,\n",
       "         -0.0914479 ,  0.18551905],\n",
       "        [-0.09020042, -0.00998801, -0.04772804, ..., -0.21902657,\n",
       "         -0.04817206, -0.16782132],\n",
       "        [-0.08093268,  0.04378277, -0.1506693 , ...,  0.07908835,\n",
       "          0.02168033,  0.03725056],\n",
       "        ...,\n",
       "        [ 0.06652179, -0.12556474,  0.11475115, ..., -0.15760429,\n",
       "          0.04597201,  0.09316549],\n",
       "        [ 0.01960103,  0.00800312, -0.04189815, ..., -0.10229609,\n",
       "          0.01367855,  0.08269121],\n",
       "        [-0.22224757,  0.02595148,  0.04270033, ...,  0.06964864,\n",
       "         -0.10443037, -0.00341247]], dtype=float32),\n",
       " array([ 0.00859263, -0.01858821, -0.01844204, -0.0115712 , -0.01328777,\n",
       "        -0.00997994,  0.01061766, -0.00550479,  0.01156626,  0.01547387,\n",
       "        -0.00947113,  0.02646852, -0.01884387, -0.00445198,  0.00026637,\n",
       "         0.02226066,  0.01243698, -0.00423663,  0.01850418, -0.01134604,\n",
       "         0.02353596,  0.01221171, -0.03041711, -0.02208219, -0.02015117,\n",
       "        -0.01322189,  0.01199343, -0.01128125, -0.01268107, -0.01655797,\n",
       "         0.00626823, -0.02196791, -0.01503663,  0.01366263,  0.02231798,\n",
       "         0.00735855, -0.00123417, -0.00129126, -0.01732331,  0.02648119,\n",
       "        -0.00026962, -0.02459971, -0.00024298, -0.01826099,  0.00030274,\n",
       "        -0.01173076, -0.00723573,  0.0038531 , -0.02452951,  0.0197943 ,\n",
       "        -0.00046879, -0.0175921 , -0.01299801, -0.02115022,  0.0116011 ,\n",
       "         0.02151413, -0.01879959, -0.01065066, -0.0131517 , -0.00926304,\n",
       "         0.00496627, -0.01039805,  0.01082895,  0.02060942, -0.00510296,\n",
       "         0.00286   , -0.02361375, -0.00862214, -0.00451633, -0.00181951,\n",
       "         0.01530991,  0.07352027, -0.00173473, -0.01362162, -0.02766083,\n",
       "        -0.0001465 , -0.01594154, -0.01853081, -0.00662972,  0.02888817,\n",
       "        -0.02673835, -0.01384409, -0.00878312, -0.01043932,  0.00646048,\n",
       "         0.00322656, -0.0123879 ,  0.01638447, -0.01703622, -0.01408351,\n",
       "        -0.00140386,  0.01442715,  0.00758877,  0.00474386,  0.01611059,\n",
       "        -0.01519354,  0.02000969,  0.02950899,  0.02004396, -0.00049893,\n",
       "         0.01247735, -0.02815981,  0.01389048,  0.01967662, -0.02777093,\n",
       "         0.01823105,  0.00767008,  0.01215437, -0.0289289 ,  0.04875552,\n",
       "         0.00464138,  0.02556315,  0.02733559, -0.03135011, -0.02673047,\n",
       "        -0.004222  ,  0.00139919, -0.00035659,  0.02193516, -0.02123472,\n",
       "         0.01641108, -0.01274689,  0.01351964, -0.00033364,  0.025348  ,\n",
       "         0.00793999, -0.01640684, -0.00638771], dtype=float32),\n",
       " array([[ 0.1437415 ],\n",
       "        [ 0.22780938],\n",
       "        [ 0.30462942],\n",
       "        [-0.19664985],\n",
       "        [-0.1296928 ],\n",
       "        [-0.05812163],\n",
       "        [ 0.17262435],\n",
       "        [-0.12765133],\n",
       "        [ 0.00748006],\n",
       "        [ 0.18290606],\n",
       "        [-0.10798425],\n",
       "        [ 0.02151788],\n",
       "        [-0.14752096],\n",
       "        [-0.163946  ],\n",
       "        [ 0.2194706 ],\n",
       "        [ 0.12393995],\n",
       "        [-0.07260864],\n",
       "        [ 0.2419134 ],\n",
       "        [ 0.2860842 ],\n",
       "        [-0.14909108],\n",
       "        [ 0.027108  ],\n",
       "        [ 0.11464559],\n",
       "        [-0.01016961],\n",
       "        [ 0.06586033],\n",
       "        [-0.09272742],\n",
       "        [-0.1255838 ],\n",
       "        [ 0.00169144],\n",
       "        [-0.16793193],\n",
       "        [ 0.11592742],\n",
       "        [-0.08895849],\n",
       "        [-0.2603168 ],\n",
       "        [-0.15872031],\n",
       "        [-0.04902206],\n",
       "        [-0.42955074],\n",
       "        [ 0.17932935],\n",
       "        [-0.14847267],\n",
       "        [-0.15949191],\n",
       "        [ 0.07893871],\n",
       "        [-0.06563403],\n",
       "        [ 0.19065116],\n",
       "        [-0.18503587],\n",
       "        [ 0.18913066],\n",
       "        [-0.01550363],\n",
       "        [ 0.05038494],\n",
       "        [-0.23226617],\n",
       "        [-0.17232211],\n",
       "        [-0.2272824 ],\n",
       "        [ 0.2144629 ],\n",
       "        [-0.01489228],\n",
       "        [ 0.24257746],\n",
       "        [ 0.10607665],\n",
       "        [ 0.27940112],\n",
       "        [ 0.07228848],\n",
       "        [-0.02870298],\n",
       "        [-0.15552272],\n",
       "        [ 0.20661125],\n",
       "        [ 0.08858447],\n",
       "        [ 0.13151868],\n",
       "        [ 0.04983092],\n",
       "        [-0.21552108],\n",
       "        [ 0.11150072],\n",
       "        [-0.06894666],\n",
       "        [ 0.12099986],\n",
       "        [ 0.00501611],\n",
       "        [-0.21087475],\n",
       "        [-0.19103116],\n",
       "        [ 0.13992964],\n",
       "        [-0.1996312 ],\n",
       "        [ 0.04181216],\n",
       "        [ 0.10562397],\n",
       "        [ 0.1450319 ],\n",
       "        [-0.24781325],\n",
       "        [-0.20226285],\n",
       "        [-0.11542308],\n",
       "        [-0.09052757],\n",
       "        [-0.06918481],\n",
       "        [-0.10528296],\n",
       "        [ 0.14182998],\n",
       "        [-0.1381212 ],\n",
       "        [-0.2105013 ],\n",
       "        [-0.01503655],\n",
       "        [-0.12264479],\n",
       "        [-0.05855318],\n",
       "        [ 0.29343837],\n",
       "        [-0.17686075],\n",
       "        [ 0.20746228],\n",
       "        [ 0.10689947],\n",
       "        [-0.2952047 ],\n",
       "        [-0.1235075 ],\n",
       "        [ 0.13281281],\n",
       "        [-0.16449793],\n",
       "        [-0.22203775],\n",
       "        [ 0.11116025],\n",
       "        [-0.17789325],\n",
       "        [ 0.23356989],\n",
       "        [ 0.09954503],\n",
       "        [-0.44192162],\n",
       "        [ 0.10200224],\n",
       "        [ 0.21224585],\n",
       "        [-0.2242332 ],\n",
       "        [ 0.19143102],\n",
       "        [ 0.325434  ],\n",
       "        [-0.42998627],\n",
       "        [ 0.25154382],\n",
       "        [-0.19181746],\n",
       "        [ 0.1345515 ],\n",
       "        [-0.32661778],\n",
       "        [-0.02462084],\n",
       "        [ 0.0863188 ],\n",
       "        [-0.10453121],\n",
       "        [ 0.15280911],\n",
       "        [ 0.2822101 ],\n",
       "        [ 0.10903125],\n",
       "        [ 0.0896764 ],\n",
       "        [ 0.06662758],\n",
       "        [-0.27088273],\n",
       "        [-0.16882485],\n",
       "        [-0.2339645 ],\n",
       "        [ 0.18891214],\n",
       "        [ 0.18764304],\n",
       "        [ 0.08484832],\n",
       "        [-0.10117945],\n",
       "        [ 0.17704941],\n",
       "        [-0.20723897],\n",
       "        [ 0.29237077],\n",
       "        [-0.26500162],\n",
       "        [ 0.01555039],\n",
       "        [-0.19925289]], dtype=float32),\n",
       " array([-0.24926914], dtype=float32)]"
      ]
     },
     "execution_count": 5,
     "metadata": {},
     "output_type": "execute_result"
    }
   ],
   "source": [
    "model.get_weights()\n"
   ]
  },
  {
   "cell_type": "code",
   "execution_count": 6,
   "id": "b7a157e8",
   "metadata": {},
   "outputs": [],
   "source": [
    "# Step 2: Helper Functions\n",
    "# Function to decode reviews\n",
    "def decode_review(encoded_review):\n",
    "    return ' '.join([reverse_word_index.get(i - 3, '?') for i in encoded_review])\n",
    "\n",
    "# Function to preprocess user input\n",
    "def preprocess_text(text):\n",
    "    words = text.lower().split()\n",
    "    encoded_review = [word_index.get(word, 2) + 3 for word in words]\n",
    "    padded_review = sequence.pad_sequences([encoded_review], maxlen=500)\n",
    "    return padded_review"
   ]
  },
  {
   "cell_type": "code",
   "execution_count": 7,
   "id": "7f6aa9ef",
   "metadata": {},
   "outputs": [],
   "source": [
    "### Prediction  function\n",
    "\n",
    "def predict_sentiment(review):\n",
    "    preprocessed_input=preprocess_text(review)\n",
    "\n",
    "    prediction=model.predict(preprocessed_input)\n",
    "\n",
    "    sentiment = 'Positive' if prediction[0][0] > 0.5 else 'Negative'\n",
    "    \n",
    "    return sentiment, prediction[0][0]\n",
    "\n"
   ]
  },
  {
   "cell_type": "code",
   "execution_count": 9,
   "id": "2aa64491",
   "metadata": {},
   "outputs": [
    {
     "name": "stdout",
     "output_type": "stream",
     "text": [
      "\u001b[1m1/1\u001b[0m \u001b[32m━━━━━━━━━━━━━━━━━━━━\u001b[0m\u001b[37m\u001b[0m \u001b[1m0s\u001b[0m 26ms/step\n",
      "Review: This movie was fantastic! The acting was great and the plot was thrilling.\n",
      "Sentiment: Positive\n",
      "Prediction Score: 0.5273716449737549\n"
     ]
    }
   ],
   "source": [
    "# Step 4: User Input and Prediction\n",
    "# Example review for prediction\n",
    "example_review = \"This movie was fantastic! The acting was great and the plot was thrilling.\"\n",
    "\n",
    "sentiment,score=predict_sentiment(example_review)\n",
    "\n",
    "print(f'Review: {example_review}')\n",
    "print(f'Sentiment: {sentiment}')\n",
    "print(f'Prediction Score: {score}')"
   ]
  },
  {
   "cell_type": "code",
   "execution_count": null,
   "id": "fd238829",
   "metadata": {},
   "outputs": [],
   "source": []
  }
 ],
 "metadata": {
  "kernelspec": {
   "display_name": "Python 3",
   "language": "python",
   "name": "python3"
  },
  "language_info": {
   "codemirror_mode": {
    "name": "ipython",
    "version": 3
   },
   "file_extension": ".py",
   "mimetype": "text/x-python",
   "name": "python",
   "nbconvert_exporter": "python",
   "pygments_lexer": "ipython3",
   "version": "3.12.0"
  }
 },
 "nbformat": 4,
 "nbformat_minor": 5
}
